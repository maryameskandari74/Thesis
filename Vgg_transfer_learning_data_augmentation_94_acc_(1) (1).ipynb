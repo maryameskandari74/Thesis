{
  "cells": [
    {
      "cell_type": "markdown",
      "metadata": {
        "id": "7oq1HjCxfYRP"
      },
      "source": [
        "# Importing libraries"
      ]
    },
    {
      "cell_type": "code",
      "execution_count": 1,
      "metadata": {
        "id": "IkUI4Ar8fYRW"
      },
      "outputs": [],
      "source": [
        "import tensorflow as tf\n",
        "from tensorflow.keras.applications.vgg16 import VGG16\n",
        "import numpy as np\n",
        "import matplotlib.pyplot as plt\n",
        "import pandas as pd\n",
        "from keras.preprocessing.image import ImageDataGenerator\n",
        "import keras\n",
        "import os\n",
        "from sklearn.metrics import classification_report, confusion_matrix\n",
        "import seaborn as sns\n",
        "import cv2\n",
        "\n",
        "import glob"
      ]
    },
    {
      "cell_type": "code",
      "execution_count": 2,
      "metadata": {
        "colab": {
          "base_uri": "https://localhost:8080/"
        },
        "id": "Bo0cWtMmffEA",
        "outputId": "43c81ee1-0757-4d56-94d2-61c4fd5b3f1d"
      },
      "outputs": [
        {
          "output_type": "stream",
          "name": "stdout",
          "text": [
            "Drive already mounted at /content/drive; to attempt to forcibly remount, call drive.mount(\"/content/drive\", force_remount=True).\n"
          ]
        }
      ],
      "source": [
        "from google.colab import drive\n",
        "drive.mount('/content/drive')"
      ]
    },
    {
      "cell_type": "code",
      "execution_count": 3,
      "metadata": {
        "id": "9H06pwsWfYRY"
      },
      "outputs": [],
      "source": [
        "main_path = \"/content/drive/My Drive/chest_xray1/\""
      ]
    },
    {
      "cell_type": "code",
      "execution_count": 4,
      "metadata": {
        "id": "zs7ii3xbfYRZ"
      },
      "outputs": [],
      "source": [
        "train_path = os.path.join(main_path,\"train\")\n",
        "test_path=os.path.join(main_path,\"test\")\n",
        "val_path=os.path.join(main_path,\"val\")"
      ]
    },
    {
      "cell_type": "code",
      "execution_count": 5,
      "metadata": {
        "id": "PJwOinrWfYRa"
      },
      "outputs": [],
      "source": [
        "pneumonia_train_images = glob.glob(train_path+\"/PNEUMONIA/*.jpeg\")\n",
        "normal_train_images = glob.glob(train_path+\"/NORMAL/*.jpeg\")"
      ]
    },
    {
      "cell_type": "code",
      "execution_count": 6,
      "metadata": {
        "id": "H9yOBWDjfYRb"
      },
      "outputs": [],
      "source": [
        "data = pd.DataFrame(np.concatenate([[0]*len(normal_train_images) , [1] *  len(pneumonia_train_images)]),columns=[\"class\"])"
      ]
    },
    {
      "cell_type": "code",
      "execution_count": 7,
      "metadata": {
        "colab": {
          "base_uri": "https://localhost:8080/",
          "height": 351
        },
        "id": "6Jl_1ArFfYRb",
        "outputId": "64da4e70-d5d2-4c63-e426-b3eff1151715"
      },
      "outputs": [
        {
          "output_type": "stream",
          "name": "stderr",
          "text": [
            "/usr/local/lib/python3.7/dist-packages/seaborn/_decorators.py:43: FutureWarning: Pass the following variable as a keyword arg: x. From version 0.12, the only valid positional argument will be `data`, and passing other arguments without an explicit keyword will result in an error or misinterpretation.\n",
            "  FutureWarning\n"
          ]
        },
        {
          "output_type": "execute_result",
          "data": {
            "text/plain": [
              "<matplotlib.axes._subplots.AxesSubplot at 0x7f57b67c9a90>"
            ]
          },
          "metadata": {},
          "execution_count": 7
        },
        {
          "output_type": "display_data",
          "data": {
            "text/plain": [
              "<Figure size 432x288 with 1 Axes>"
            ],
            "image/png": "[encoded data removed]"
          },
          "metadata": {
            "needs_background": "light"
          }
        }
      ],
      "source": [
        "sns.countplot(data['class'],data=data)"
      ]
    },
    {
      "cell_type": "markdown",
      "metadata": {
        "id": "iXz1aqBwfYRd"
      },
      "source": [
        "### Clear imbalance between normal and pneumonia class"
      ]
    },
    {
      "cell_type": "markdown",
      "metadata": {
        "id": "D8U_FBT0fYRe"
      },
      "source": [
        "# Defining Image Generators\n",
        "1. Using **ImageDataGenerator** , to augment our images so as to create a larger dataset for our model to train on.\n",
        "2. Also to deal with the imbalanced number of data points of the given classes"
      ]
    },
    {
      "cell_type": "code",
      "execution_count": 8,
      "metadata": {
        "id": "bonTRLNLfYRf"
      },
      "outputs": [],
      "source": [
        "# define the type of augmentation techniques we will apply.\n",
        "train_Datagen = ImageDataGenerator(\n",
        "    rescale =1/255,\n",
        "    #shear_range=10,\n",
        "    zoom_range = 0.2,\n",
        "    #horizontal_flip = True,\n",
        "    width_shift_range=0.2,\n",
        "    height_shift_range=0.2,\n",
        "#     rotation_range=20,\n",
        "    fill_mode = 'nearest',\n",
        ")\n",
        "val_datagen = ImageDataGenerator(\n",
        "    rescale = 1/255\n",
        ")"
      ]
    },
    {
      "cell_type": "markdown",
      "metadata": {
        "id": "f5gEWuidfYRg"
      },
      "source": [
        "# Defining model\n",
        "* Using pre-trained VGG-16 model.\n",
        "* Freezing all the layers of model to train.\n",
        "* Using RMSProp as optimiser\n",
        "* Also  using learning rate decay to optimize the learning process."
      ]
    },
    {
      "cell_type": "code",
      "execution_count": 9,
      "metadata": {
        "id": "XhC_KP1nfYRh"
      },
      "outputs": [],
      "source": [
        "conv_base = VGG16(include_top = False,weights='imagenet')\n",
        "for i in conv_base.layers:\n",
        "    i.trainable=False\n",
        "X = conv_base.output\n",
        "X = keras.layers.GlobalAveragePooling2D()(X)\n",
        "X = keras.layers.Dense(128,activation='relu')(X)\n",
        "predictions = keras.layers.Dense(1,activation='sigmoid')(X)\n",
        "model= keras.Model(conv_base.input,predictions)\n",
        "initial_learning_rate = 0.1\n",
        "lr_schedule = tf.keras.optimizers.schedules.ExponentialDecay(\n",
        "    initial_learning_rate,\n",
        "    decay_steps=100000,\n",
        "    decay_rate=0.96,\n",
        "    staircase=True)\n",
        "model.compile(loss='binary_crossentropy',\n",
        "             optimizer=tf.keras.optimizers.RMSprop(lr_schedule),\n",
        "             metrics=['accuracy'])"
      ]
    },
    {
      "cell_type": "code",
      "execution_count": 10,
      "metadata": {
        "colab": {
          "base_uri": "https://localhost:8080/"
        },
        "id": "GOMgaqp7fYRi",
        "outputId": "c8e6778b-53bf-4c21-e266-3c6e3d9ff16b"
      },
      "outputs": [
        {
          "output_type": "stream",
          "name": "stdout",
          "text": [
            "Model: \"model\"\n",
            "_________________________________________________________________\n",
            " Layer (type)                Output Shape              Param #   \n",
            "=================================================================\n",
            " input_1 (InputLayer)        [(None, None, None, 3)]   0         \n",
            "                                                                 \n",
            " block1_conv1 (Conv2D)       (None, None, None, 64)    1792      \n",
            "                                                                 \n",
            " block1_conv2 (Conv2D)       (None, None, None, 64)    36928     \n",
            "                                                                 \n",
            " block1_pool (MaxPooling2D)  (None, None, None, 64)    0         \n",
            "                                                                 \n",
            " block2_conv1 (Conv2D)       (None, None, None, 128)   73856     \n",
            "                                                                 \n",
            " block2_conv2 (Conv2D)       (None, None, None, 128)   147584    \n",
            "                                                                 \n",
            " block2_pool (MaxPooling2D)  (None, None, None, 128)   0         \n",
            "                                                                 \n",
            " block3_conv1 (Conv2D)       (None, None, None, 256)   295168    \n",
            "                                                                 \n",
            " block3_conv2 (Conv2D)       (None, None, None, 256)   590080    \n",
            "                                                                 \n",
            " block3_conv3 (Conv2D)       (None, None, None, 256)   590080    \n",
            "                                                                 \n",
            " block3_pool (MaxPooling2D)  (None, None, None, 256)   0         \n",
            "                                                                 \n",
            " block4_conv1 (Conv2D)       (None, None, None, 512)   1180160   \n",
            "                                                                 \n",
            " block4_conv2 (Conv2D)       (None, None, None, 512)   2359808   \n",
            "                                                                 \n",
            " block4_conv3 (Conv2D)       (None, None, None, 512)   2359808   \n",
            "                                                                 \n",
            " block4_pool (MaxPooling2D)  (None, None, None, 512)   0         \n",
            "                                                                 \n",
            " block5_conv1 (Conv2D)       (None, None, None, 512)   2359808   \n",
            "                                                                 \n",
            " block5_conv2 (Conv2D)       (None, None, None, 512)   2359808   \n",
            "                                                                 \n",
            " block5_conv3 (Conv2D)       (None, None, None, 512)   2359808   \n",
            "                                                                 \n",
            " block5_pool (MaxPooling2D)  (None, None, None, 512)   0         \n",
            "                                                                 \n",
            " global_average_pooling2d (G  (None, 512)              0         \n",
            " lobalAveragePooling2D)                                          \n",
            "                                                                 \n",
            " dense (Dense)               (None, 128)               65664     \n",
            "                                                                 \n",
            " dense_1 (Dense)             (None, 1)                 129       \n",
            "                                                                 \n",
            "=================================================================\n",
            "Total params: 14,780,481\n",
            "Trainable params: 65,793\n",
            "Non-trainable params: 14,714,688\n",
            "_________________________________________________________________\n"
          ]
        }
      ],
      "source": [
        "model.summary()"
      ]
    },
    {
      "cell_type": "markdown",
      "metadata": {
        "id": "OpLgA8w6fYRj"
      },
      "source": [
        "### Creating augmented data from the above defined image data generators"
      ]
    },
    {
      "cell_type": "code",
      "execution_count": 11,
      "metadata": {
        "colab": {
          "base_uri": "https://localhost:8080/"
        },
        "id": "jMCjnJNzfYRj",
        "outputId": "0db499fc-3fca-4754-acd4-b2e92fdecaaf"
      },
      "outputs": [
        {
          "output_type": "stream",
          "name": "stdout",
          "text": [
            "Found 5252 images belonging to 2 classes.\n",
            "Found 16 images belonging to 2 classes.\n",
            "Found 624 images belonging to 2 classes.\n"
          ]
        }
      ],
      "source": [
        "train_generator=train_Datagen.flow_from_directory(\n",
        "    train_path,\n",
        "    target_size=(150,150),\n",
        "    batch_size= 32,\n",
        "    class_mode='binary'\n",
        ")\n",
        "validation_generator = val_datagen.flow_from_directory(\n",
        "        val_path,\n",
        "        target_size=(150,150),\n",
        "        batch_size=8,\n",
        "        class_mode='binary'\n",
        ")\n",
        "test_generator = val_datagen.flow_from_directory(\n",
        "    test_path,\n",
        "    target_size=(150,150),\n",
        "    batch_size=32,\n",
        "    class_mode='binary'\n",
        ")"
      ]
    },
    {
      "cell_type": "code",
      "execution_count": 12,
      "metadata": {
        "colab": {
          "base_uri": "https://localhost:8080/"
        },
        "id": "-HSeK4KzfYRk",
        "outputId": "b13969ba-52c1-41d5-9444-5a5ccd251c7c"
      },
      "outputs": [
        {
          "output_type": "stream",
          "name": "stdout",
          "text": [
            "Epoch 1/20\n",
            "163/163 [==============================] - 93s 533ms/step - loss: 0.9296 - accuracy: 0.8082 - val_loss: 0.3973 - val_accuracy: 0.8125\n",
            "Epoch 2/20\n",
            "163/163 [==============================] - 84s 514ms/step - loss: 0.3301 - accuracy: 0.8730 - val_loss: 0.5329 - val_accuracy: 0.8125\n",
            "Epoch 3/20\n",
            "163/163 [==============================] - 82s 501ms/step - loss: 0.2732 - accuracy: 0.8994 - val_loss: 0.3861 - val_accuracy: 0.8125\n",
            "Epoch 4/20\n",
            "163/163 [==============================] - 84s 515ms/step - loss: 0.2524 - accuracy: 0.9059 - val_loss: 0.1783 - val_accuracy: 1.0000\n",
            "Epoch 5/20\n",
            "163/163 [==============================] - 82s 505ms/step - loss: 0.2395 - accuracy: 0.9086 - val_loss: 0.4605 - val_accuracy: 0.8125\n",
            "Epoch 6/20\n",
            "163/163 [==============================] - 82s 501ms/step - loss: 0.2276 - accuracy: 0.9152 - val_loss: 0.4815 - val_accuracy: 0.8125\n",
            "Epoch 7/20\n",
            "163/163 [==============================] - 84s 515ms/step - loss: 0.2250 - accuracy: 0.9150 - val_loss: 0.1383 - val_accuracy: 1.0000\n",
            "Epoch 8/20\n",
            "163/163 [==============================] - 81s 498ms/step - loss: 0.2117 - accuracy: 0.9215 - val_loss: 0.1428 - val_accuracy: 1.0000\n",
            "Epoch 9/20\n",
            "163/163 [==============================] - 85s 519ms/step - loss: 0.2157 - accuracy: 0.9200 - val_loss: 0.2436 - val_accuracy: 0.8750\n",
            "Epoch 10/20\n",
            "163/163 [==============================] - 84s 516ms/step - loss: 0.2113 - accuracy: 0.9192 - val_loss: 0.2705 - val_accuracy: 0.8125\n",
            "Epoch 11/20\n",
            "163/163 [==============================] - 83s 509ms/step - loss: 0.2161 - accuracy: 0.9185 - val_loss: 0.3200 - val_accuracy: 0.8125\n",
            "Epoch 12/20\n",
            "163/163 [==============================] - 84s 514ms/step - loss: 0.2043 - accuracy: 0.9273 - val_loss: 0.2414 - val_accuracy: 0.9375\n",
            "Epoch 13/20\n",
            "163/163 [==============================] - 83s 510ms/step - loss: 0.2160 - accuracy: 0.9189 - val_loss: 0.0958 - val_accuracy: 1.0000\n",
            "Epoch 14/20\n",
            "163/163 [==============================] - 82s 500ms/step - loss: 0.2103 - accuracy: 0.9235 - val_loss: 0.1253 - val_accuracy: 0.9375\n",
            "Epoch 15/20\n",
            "163/163 [==============================] - 85s 520ms/step - loss: 0.2119 - accuracy: 0.9210 - val_loss: 0.1343 - val_accuracy: 0.9375\n",
            "Epoch 16/20\n",
            "163/163 [==============================] - 84s 514ms/step - loss: 0.2110 - accuracy: 0.9223 - val_loss: 0.1253 - val_accuracy: 1.0000\n",
            "Epoch 17/20\n",
            "163/163 [==============================] - 81s 498ms/step - loss: 0.2004 - accuracy: 0.9248 - val_loss: 0.1192 - val_accuracy: 0.9375\n",
            "Epoch 18/20\n",
            "163/163 [==============================] - 83s 511ms/step - loss: 0.1988 - accuracy: 0.9252 - val_loss: 0.1436 - val_accuracy: 0.9375\n",
            "Epoch 19/20\n",
            "163/163 [==============================] - 83s 506ms/step - loss: 0.2081 - accuracy: 0.9208 - val_loss: 0.1439 - val_accuracy: 1.0000\n",
            "Epoch 20/20\n",
            "163/163 [==============================] - 83s 510ms/step - loss: 0.2113 - accuracy: 0.9214 - val_loss: 0.1260 - val_accuracy: 1.0000\n"
          ]
        }
      ],
      "source": [
        "history = model.fit(\n",
        "    train_generator,\n",
        "    steps_per_epoch = 163,\n",
        "    epochs=20,\n",
        "    validation_data = validation_generator\n",
        ")"
      ]
    },
    {
      "cell_type": "code",
      "execution_count": 13,
      "metadata": {
        "colab": {
          "base_uri": "https://localhost:8080/"
        },
        "id": "rnPYkP7AfYRk",
        "outputId": "e67a2c51-d184-4b89-dc11-70d25b589b3a"
      },
      "outputs": [
        {
          "output_type": "stream",
          "name": "stderr",
          "text": [
            "/usr/local/lib/python3.7/dist-packages/ipykernel_launcher.py:1: UserWarning: `Model.evaluate_generator` is deprecated and will be removed in a future version. Please use `Model.evaluate`, which supports generators.\n",
            "  \"\"\"Entry point for launching an IPython kernel.\n",
            "WARNING:tensorflow:Your input ran out of data; interrupting training. Make sure that your dataset or generator can generate at least `steps_per_epoch * epochs` batches (in this case, 624 batches). You may need to use the repeat() function when building your dataset.\n"
          ]
        }
      ],
      "source": [
        "accuracy=model.evaluate_generator(test_generator,624)[1]"
      ]
    },
    {
      "cell_type": "code",
      "execution_count": 14,
      "metadata": {
        "colab": {
          "base_uri": "https://localhost:8080/"
        },
        "id": "Wzl-TF0FfYRl",
        "outputId": "713a512a-7b0d-4416-ab40-2ebf64124ca6"
      },
      "outputs": [
        {
          "output_type": "execute_result",
          "data": {
            "text/plain": [
              "0.9006410241127014"
            ]
          },
          "metadata": {},
          "execution_count": 14
        }
      ],
      "source": [
        "accuracy"
      ]
    },
    {
      "cell_type": "markdown",
      "metadata": {
        "id": "arkNDVpXfYRm"
      },
      "source": [
        "# Unfreezing the layers of model\n"
      ]
    },
    {
      "cell_type": "code",
      "execution_count": 22,
      "metadata": {
        "id": "cFXCzsS_fYRm"
      },
      "outputs": [],
      "source": [
        "#unfreeze to fine-tune the model and increase the accuracy\n",
        "for i in conv_base.layers:\n",
        "    i.trainable = True\n"
      ]
    },
    {
      "cell_type": "markdown",
      "metadata": {
        "id": "bZqnqA_mfYRm"
      },
      "source": [
        "# Finetuning the model\n",
        "Again training the model with slower learning rate"
      ]
    },
    {
      "cell_type": "code",
      "execution_count": 16,
      "metadata": {
        "id": "VEOvWrmsfYRn"
      },
      "outputs": [],
      "source": [
        "initial_learning_rate = 1e-5\n",
        "lr_schedule = tf.keras.optimizers.schedules.ExponentialDecay(\n",
        "    initial_learning_rate,\n",
        "    decay_steps=100000,\n",
        "    decay_rate=0.96,\n",
        "    staircase=True)\n",
        "model.compile(optimizer=tf.keras.optimizers.RMSprop(lr_schedule),  # Very slow learning rate\n",
        "              loss=keras.losses.BinaryCrossentropy(from_logits=True),\n",
        "              metrics=[keras.metrics.BinaryAccuracy()])"
      ]
    },
    {
      "cell_type": "code",
      "execution_count": 17,
      "metadata": {
        "id": "CEyCaqKEfYRn",
        "colab": {
          "base_uri": "https://localhost:8080/"
        },
        "outputId": "9357a08d-95a0-4013-d492-4307b1c3bb6f"
      },
      "outputs": [
        {
          "metadata": {
            "tags": null
          },
          "name": "stdout",
          "output_type": "stream",
          "text": [
            "Epoch 1/100\n"
          ]
        },
        {
          "metadata": {
            "tags": null
          },
          "name": "stderr",
          "output_type": "stream",
          "text": [
            "/usr/local/lib/python3.7/dist-packages/tensorflow/python/util/dispatch.py:1082: UserWarning: \"`binary_crossentropy` received `from_logits=True`, but the `output` argument was produced by a sigmoid or softmax activation and thus does not represent logits. Was this intended?\"\n",
            "  return dispatch_target(*args, **kwargs)\n"
          ]
        },
        {
          "output_type": "stream",
          "name": "stdout",
          "text": [
            "163/163 [==============================] - 93s 547ms/step - loss: 0.2429 - binary_accuracy: 0.9187 - val_loss: 0.1838 - val_binary_accuracy: 0.9375\n",
            "Epoch 2/100\n",
            "163/163 [==============================] - 91s 556ms/step - loss: 0.1623 - binary_accuracy: 0.9420 - val_loss: 0.3240 - val_binary_accuracy: 0.8750\n",
            "Epoch 3/100\n",
            "163/163 [==============================] - 89s 548ms/step - loss: 0.1432 - binary_accuracy: 0.9510 - val_loss: 0.2965 - val_binary_accuracy: 0.8750\n",
            "Epoch 4/100\n",
            "163/163 [==============================] - 91s 557ms/step - loss: 0.1228 - binary_accuracy: 0.9611 - val_loss: 0.2628 - val_binary_accuracy: 0.9375\n",
            "Epoch 5/100\n",
            "163/163 [==============================] - 91s 558ms/step - loss: 0.1170 - binary_accuracy: 0.9605 - val_loss: 0.3657 - val_binary_accuracy: 0.8125\n",
            "Epoch 6/100\n",
            "163/163 [==============================] - 90s 549ms/step - loss: 0.1065 - binary_accuracy: 0.9659 - val_loss: 0.1866 - val_binary_accuracy: 0.9375\n",
            "Epoch 7/100\n",
            "163/163 [==============================] - 89s 544ms/step - loss: 0.0953 - binary_accuracy: 0.9709 - val_loss: 0.2075 - val_binary_accuracy: 0.9375\n",
            "Epoch 8/100\n",
            "163/163 [==============================] - 91s 557ms/step - loss: 0.0922 - binary_accuracy: 0.9732 - val_loss: 0.2419 - val_binary_accuracy: 0.9375\n",
            "Epoch 9/100\n",
            "163/163 [==============================] - 88s 542ms/step - loss: 0.0891 - binary_accuracy: 0.9753 - val_loss: 0.1662 - val_binary_accuracy: 0.9375\n",
            "Epoch 10/100\n",
            "163/163 [==============================] - 90s 548ms/step - loss: 0.0871 - binary_accuracy: 0.9753 - val_loss: 0.2433 - val_binary_accuracy: 0.8750\n",
            "Epoch 11/100\n",
            "163/163 [==============================] - 91s 557ms/step - loss: 0.0778 - binary_accuracy: 0.9786 - val_loss: 0.1829 - val_binary_accuracy: 0.8750\n",
            "Epoch 12/100\n",
            "163/163 [==============================] - 89s 542ms/step - loss: 0.0900 - binary_accuracy: 0.9753 - val_loss: 0.1315 - val_binary_accuracy: 0.9375\n",
            "Epoch 13/100\n",
            "163/163 [==============================] - 92s 561ms/step - loss: 0.0810 - binary_accuracy: 0.9773 - val_loss: 0.0679 - val_binary_accuracy: 1.0000\n",
            "Epoch 14/100\n",
            "163/163 [==============================] - 90s 549ms/step - loss: 0.0733 - binary_accuracy: 0.9827 - val_loss: 0.2058 - val_binary_accuracy: 0.9375\n",
            "Epoch 15/100\n",
            "163/163 [==============================] - 88s 540ms/step - loss: 0.0727 - binary_accuracy: 0.9830 - val_loss: 0.0649 - val_binary_accuracy: 1.0000\n",
            "Epoch 16/100\n",
            "163/163 [==============================] - 92s 562ms/step - loss: 0.0726 - binary_accuracy: 0.9815 - val_loss: 0.0627 - val_binary_accuracy: 1.0000\n",
            "Epoch 17/100\n",
            "163/163 [==============================] - 91s 556ms/step - loss: 0.0756 - binary_accuracy: 0.9801 - val_loss: 0.0662 - val_binary_accuracy: 1.0000\n",
            "Epoch 18/100\n",
            "163/163 [==============================] - 91s 555ms/step - loss: 0.0650 - binary_accuracy: 0.9852 - val_loss: 0.1098 - val_binary_accuracy: 0.9375\n",
            "Epoch 19/100\n",
            "163/163 [==============================] - 90s 551ms/step - loss: 0.0702 - binary_accuracy: 0.9836 - val_loss: 0.0787 - val_binary_accuracy: 1.0000\n",
            "Epoch 20/100\n",
            "163/163 [==============================] - 88s 541ms/step - loss: 0.0764 - binary_accuracy: 0.9807 - val_loss: 0.0642 - val_binary_accuracy: 1.0000\n",
            "Epoch 21/100\n",
            "163/163 [==============================] - 90s 550ms/step - loss: 0.0700 - binary_accuracy: 0.9848 - val_loss: 0.5902 - val_binary_accuracy: 0.6875\n",
            "Epoch 22/100\n",
            "163/163 [==============================] - 91s 554ms/step - loss: 0.0670 - binary_accuracy: 0.9863 - val_loss: 0.0999 - val_binary_accuracy: 1.0000\n",
            "Epoch 23/100\n",
            "163/163 [==============================] - 89s 548ms/step - loss: 0.0655 - binary_accuracy: 0.9854 - val_loss: 0.0636 - val_binary_accuracy: 1.0000\n",
            "Epoch 24/100\n",
            "163/163 [==============================] - 90s 550ms/step - loss: 0.0640 - binary_accuracy: 0.9855 - val_loss: 0.0692 - val_binary_accuracy: 1.0000\n",
            "Epoch 25/100\n",
            "163/163 [==============================] - 92s 564ms/step - loss: 0.0646 - binary_accuracy: 0.9858 - val_loss: 0.0755 - val_binary_accuracy: 1.0000\n",
            "Epoch 26/100\n",
            "163/163 [==============================] - 90s 549ms/step - loss: 0.0604 - binary_accuracy: 0.9879 - val_loss: 0.0642 - val_binary_accuracy: 1.0000\n",
            "Epoch 27/100\n",
            "163/163 [==============================] - 90s 548ms/step - loss: 0.0663 - binary_accuracy: 0.9869 - val_loss: 0.0660 - val_binary_accuracy: 1.0000\n",
            "Epoch 28/100\n",
            "163/163 [==============================] - 91s 559ms/step - loss: 0.0666 - binary_accuracy: 0.9859 - val_loss: 0.0642 - val_binary_accuracy: 1.0000\n",
            "Epoch 29/100\n",
            "163/163 [==============================] - 88s 539ms/step - loss: 0.0601 - binary_accuracy: 0.9873 - val_loss: 0.1169 - val_binary_accuracy: 0.9375\n",
            "Epoch 30/100\n",
            "163/163 [==============================] - 90s 549ms/step - loss: 0.0575 - binary_accuracy: 0.9880 - val_loss: 0.0615 - val_binary_accuracy: 1.0000\n",
            "Epoch 31/100\n",
            "163/163 [==============================] - 90s 553ms/step - loss: 0.0638 - binary_accuracy: 0.9869 - val_loss: 0.0615 - val_binary_accuracy: 1.0000\n",
            "Epoch 32/100\n",
            "163/163 [==============================] - 88s 538ms/step - loss: 0.0559 - binary_accuracy: 0.9892 - val_loss: 0.1172 - val_binary_accuracy: 1.0000\n",
            "Epoch 33/100\n",
            "163/163 [==============================] - 89s 545ms/step - loss: 0.0635 - binary_accuracy: 0.9871 - val_loss: 0.2170 - val_binary_accuracy: 0.9375\n",
            "Epoch 34/100\n",
            "163/163 [==============================] - 91s 556ms/step - loss: 0.0553 - binary_accuracy: 0.9896 - val_loss: 0.0645 - val_binary_accuracy: 1.0000\n",
            "Epoch 35/100\n",
            "163/163 [==============================] - 90s 551ms/step - loss: 0.0653 - binary_accuracy: 0.9859 - val_loss: 0.8781 - val_binary_accuracy: 0.8125\n",
            "Epoch 36/100\n",
            "163/163 [==============================] - 88s 539ms/step - loss: 0.0563 - binary_accuracy: 0.9915 - val_loss: 0.0932 - val_binary_accuracy: 1.0000\n",
            "Epoch 37/100\n",
            "163/163 [==============================] - 89s 544ms/step - loss: 0.0719 - binary_accuracy: 0.9863 - val_loss: 0.0603 - val_binary_accuracy: 1.0000\n",
            "Epoch 38/100\n",
            "163/163 [==============================] - 90s 552ms/step - loss: 0.0524 - binary_accuracy: 0.9896 - val_loss: 0.0332 - val_binary_accuracy: 1.0000\n",
            "Epoch 39/100\n",
            "163/163 [==============================] - 88s 541ms/step - loss: 0.0605 - binary_accuracy: 0.9861 - val_loss: 0.0597 - val_binary_accuracy: 0.9375\n",
            "Epoch 40/100\n",
            "163/163 [==============================] - 89s 547ms/step - loss: 0.0470 - binary_accuracy: 0.9867 - val_loss: 0.0371 - val_binary_accuracy: 1.0000\n",
            "Epoch 41/100\n",
            "163/163 [==============================] - 90s 551ms/step - loss: 0.0416 - binary_accuracy: 0.9888 - val_loss: 0.0275 - val_binary_accuracy: 1.0000\n",
            "Epoch 42/100\n",
            "163/163 [==============================] - 88s 540ms/step - loss: 0.0372 - binary_accuracy: 0.9886 - val_loss: 0.0098 - val_binary_accuracy: 1.0000\n",
            "Epoch 43/100\n",
            "163/163 [==============================] - 90s 549ms/step - loss: 0.0430 - binary_accuracy: 0.9894 - val_loss: 0.0110 - val_binary_accuracy: 1.0000\n",
            "Epoch 44/100\n",
            "163/163 [==============================] - 89s 545ms/step - loss: 0.0478 - binary_accuracy: 0.9892 - val_loss: 0.0056 - val_binary_accuracy: 1.0000\n",
            "Epoch 45/100\n",
            "163/163 [==============================] - 90s 550ms/step - loss: 0.0383 - binary_accuracy: 0.9915 - val_loss: 0.0043 - val_binary_accuracy: 1.0000\n",
            "Epoch 46/100\n",
            "163/163 [==============================] - 89s 546ms/step - loss: 0.0359 - binary_accuracy: 0.9890 - val_loss: 0.0072 - val_binary_accuracy: 1.0000\n",
            "Epoch 47/100\n",
            "163/163 [==============================] - 89s 543ms/step - loss: 0.0405 - binary_accuracy: 0.9898 - val_loss: 0.0072 - val_binary_accuracy: 1.0000\n",
            "Epoch 48/100\n",
            "163/163 [==============================] - 90s 549ms/step - loss: 0.0364 - binary_accuracy: 0.9879 - val_loss: 0.0048 - val_binary_accuracy: 1.0000\n",
            "Epoch 49/100\n",
            "163/163 [==============================] - 90s 549ms/step - loss: 0.0345 - binary_accuracy: 0.9919 - val_loss: 0.0107 - val_binary_accuracy: 1.0000\n",
            "Epoch 50/100\n",
            "163/163 [==============================] - 89s 544ms/step - loss: 0.0355 - binary_accuracy: 0.9896 - val_loss: 0.1070 - val_binary_accuracy: 0.9375\n",
            "Epoch 51/100\n",
            "163/163 [==============================] - 89s 548ms/step - loss: 0.0315 - binary_accuracy: 0.9909 - val_loss: 0.0044 - val_binary_accuracy: 1.0000\n",
            "Epoch 52/100\n",
            "163/163 [==============================] - 91s 556ms/step - loss: 0.0270 - binary_accuracy: 0.9909 - val_loss: 2.0831 - val_binary_accuracy: 0.6875\n",
            "Epoch 53/100\n",
            "163/163 [==============================] - 88s 540ms/step - loss: 0.0362 - binary_accuracy: 0.9921 - val_loss: 0.0061 - val_binary_accuracy: 1.0000\n",
            "Epoch 54/100\n",
            "163/163 [==============================] - 90s 551ms/step - loss: 0.0299 - binary_accuracy: 0.9911 - val_loss: 0.0125 - val_binary_accuracy: 1.0000\n",
            "Epoch 55/100\n",
            "163/163 [==============================] - 88s 541ms/step - loss: 0.0364 - binary_accuracy: 0.9931 - val_loss: 0.0192 - val_binary_accuracy: 1.0000\n",
            "Epoch 56/100\n",
            "163/163 [==============================] - 88s 539ms/step - loss: 0.0287 - binary_accuracy: 0.9927 - val_loss: 0.0099 - val_binary_accuracy: 1.0000\n",
            "Epoch 57/100\n",
            "163/163 [==============================] - 90s 550ms/step - loss: 0.0292 - binary_accuracy: 0.9906 - val_loss: 0.0036 - val_binary_accuracy: 1.0000\n",
            "Epoch 58/100\n",
            "163/163 [==============================] - 89s 542ms/step - loss: 0.0232 - binary_accuracy: 0.9921 - val_loss: 0.0036 - val_binary_accuracy: 1.0000\n",
            "Epoch 59/100\n",
            "163/163 [==============================] - 88s 540ms/step - loss: 0.0273 - binary_accuracy: 0.9925 - val_loss: 0.0066 - val_binary_accuracy: 1.0000\n",
            "Epoch 60/100\n",
            "163/163 [==============================] - 90s 551ms/step - loss: 0.0218 - binary_accuracy: 0.9925 - val_loss: 0.0086 - val_binary_accuracy: 1.0000\n",
            "Epoch 61/100\n",
            "163/163 [==============================] - 91s 557ms/step - loss: 0.0254 - binary_accuracy: 0.9936 - val_loss: 0.0156 - val_binary_accuracy: 1.0000\n",
            "Epoch 62/100\n",
            "163/163 [==============================] - 90s 548ms/step - loss: 0.0233 - binary_accuracy: 0.9934 - val_loss: 0.0047 - val_binary_accuracy: 1.0000\n",
            "Epoch 63/100\n",
            "163/163 [==============================] - 88s 541ms/step - loss: 0.0274 - binary_accuracy: 0.9936 - val_loss: 9.5771e-04 - val_binary_accuracy: 1.0000\n",
            "Epoch 64/100\n",
            "163/163 [==============================] - 89s 544ms/step - loss: 0.0256 - binary_accuracy: 0.9923 - val_loss: 0.0029 - val_binary_accuracy: 1.0000\n",
            "Epoch 65/100\n",
            "163/163 [==============================] - 89s 548ms/step - loss: 0.0273 - binary_accuracy: 0.9919 - val_loss: 0.0013 - val_binary_accuracy: 1.0000\n",
            "Epoch 66/100\n",
            "163/163 [==============================] - 90s 551ms/step - loss: 0.0293 - binary_accuracy: 0.9934 - val_loss: 0.0118 - val_binary_accuracy: 1.0000\n",
            "Epoch 67/100\n",
            "163/163 [==============================] - 89s 546ms/step - loss: 0.0250 - binary_accuracy: 0.9934 - val_loss: 4.3542e-04 - val_binary_accuracy: 1.0000\n",
            "Epoch 68/100\n",
            "163/163 [==============================] - 89s 542ms/step - loss: 0.0327 - binary_accuracy: 0.9931 - val_loss: 0.0041 - val_binary_accuracy: 1.0000\n",
            "Epoch 69/100\n",
            "163/163 [==============================] - 90s 550ms/step - loss: 0.0274 - binary_accuracy: 0.9923 - val_loss: 0.0022 - val_binary_accuracy: 1.0000\n",
            "Epoch 70/100\n",
            "163/163 [==============================] - 90s 552ms/step - loss: 0.0227 - binary_accuracy: 0.9929 - val_loss: 8.2719e-04 - val_binary_accuracy: 1.0000\n",
            "Epoch 71/100\n",
            "163/163 [==============================] - 90s 551ms/step - loss: 0.0267 - binary_accuracy: 0.9911 - val_loss: 9.2651e-04 - val_binary_accuracy: 1.0000\n",
            "Epoch 72/100\n",
            "163/163 [==============================] - 91s 555ms/step - loss: 0.0266 - binary_accuracy: 0.9938 - val_loss: 0.0017 - val_binary_accuracy: 1.0000\n",
            "Epoch 73/100\n",
            "163/163 [==============================] - 89s 546ms/step - loss: 0.0241 - binary_accuracy: 0.9923 - val_loss: 0.0027 - val_binary_accuracy: 1.0000\n",
            "Epoch 74/100\n",
            "163/163 [==============================] - 89s 546ms/step - loss: 0.0240 - binary_accuracy: 0.9946 - val_loss: 0.0015 - val_binary_accuracy: 1.0000\n",
            "Epoch 75/100\n",
            "163/163 [==============================] - 91s 557ms/step - loss: 0.0207 - binary_accuracy: 0.9942 - val_loss: 0.0011 - val_binary_accuracy: 1.0000\n",
            "Epoch 76/100\n",
            "163/163 [==============================] - 90s 552ms/step - loss: 0.0213 - binary_accuracy: 0.9936 - val_loss: 4.4548e-04 - val_binary_accuracy: 1.0000\n",
            "Epoch 77/100\n",
            "163/163 [==============================] - 90s 549ms/step - loss: 0.0246 - binary_accuracy: 0.9940 - val_loss: 0.0154 - val_binary_accuracy: 1.0000\n",
            "Epoch 78/100\n",
            "163/163 [==============================] - 89s 546ms/step - loss: 0.0218 - binary_accuracy: 0.9950 - val_loss: 0.0025 - val_binary_accuracy: 1.0000\n",
            "Epoch 79/100\n",
            "163/163 [==============================] - 89s 544ms/step - loss: 0.0307 - binary_accuracy: 0.9934 - val_loss: 0.0014 - val_binary_accuracy: 1.0000\n",
            "Epoch 80/100\n",
            "163/163 [==============================] - 90s 554ms/step - loss: 0.0254 - binary_accuracy: 0.9933 - val_loss: 0.0065 - val_binary_accuracy: 1.0000\n",
            "Epoch 81/100\n",
            "163/163 [==============================] - 88s 541ms/step - loss: 0.0272 - binary_accuracy: 0.9936 - val_loss: 6.6206e-04 - val_binary_accuracy: 1.0000\n",
            "Epoch 82/100\n",
            "163/163 [==============================] - 90s 551ms/step - loss: 0.0285 - binary_accuracy: 0.9919 - val_loss: 0.0038 - val_binary_accuracy: 1.0000\n",
            "Epoch 83/100\n",
            "163/163 [==============================] - 91s 557ms/step - loss: 0.0252 - binary_accuracy: 0.9929 - val_loss: 0.0020 - val_binary_accuracy: 1.0000\n",
            "Epoch 84/100\n",
            "163/163 [==============================] - 89s 547ms/step - loss: 0.0404 - binary_accuracy: 0.9938 - val_loss: 0.0024 - val_binary_accuracy: 1.0000\n",
            "Epoch 85/100\n",
            "163/163 [==============================] - 89s 542ms/step - loss: 0.0198 - binary_accuracy: 0.9929 - val_loss: 0.0526 - val_binary_accuracy: 0.9375\n",
            "Epoch 86/100\n",
            "163/163 [==============================] - 88s 539ms/step - loss: 0.0181 - binary_accuracy: 0.9942 - val_loss: 5.3252e-04 - val_binary_accuracy: 1.0000\n",
            "Epoch 87/100\n",
            "163/163 [==============================] - 88s 541ms/step - loss: 0.0246 - binary_accuracy: 0.9931 - val_loss: 0.0059 - val_binary_accuracy: 1.0000\n",
            "Epoch 88/100\n",
            "163/163 [==============================] - 89s 544ms/step - loss: 0.0235 - binary_accuracy: 0.9940 - val_loss: 0.0016 - val_binary_accuracy: 1.0000\n",
            "Epoch 89/100\n",
            "163/163 [==============================] - 88s 540ms/step - loss: 0.0308 - binary_accuracy: 0.9942 - val_loss: 0.0016 - val_binary_accuracy: 1.0000\n",
            "Epoch 90/100\n",
            "163/163 [==============================] - 90s 551ms/step - loss: 0.0232 - binary_accuracy: 0.9936 - val_loss: 6.8644e-04 - val_binary_accuracy: 1.0000\n",
            "Epoch 91/100\n",
            "163/163 [==============================] - 90s 551ms/step - loss: 0.0178 - binary_accuracy: 0.9952 - val_loss: 0.0023 - val_binary_accuracy: 1.0000\n",
            "Epoch 92/100\n",
            "163/163 [==============================] - 90s 549ms/step - loss: 0.0269 - binary_accuracy: 0.9944 - val_loss: 4.0428e-04 - val_binary_accuracy: 1.0000\n",
            "Epoch 93/100\n",
            "163/163 [==============================] - 90s 552ms/step - loss: 0.0186 - binary_accuracy: 0.9952 - val_loss: 9.6527e-05 - val_binary_accuracy: 1.0000\n",
            "Epoch 94/100\n",
            "163/163 [==============================] - 89s 545ms/step - loss: 0.0280 - binary_accuracy: 0.9923 - val_loss: 4.6919e-04 - val_binary_accuracy: 1.0000\n",
            "Epoch 95/100\n",
            "163/163 [==============================] - 90s 550ms/step - loss: 0.0223 - binary_accuracy: 0.9948 - val_loss: 0.0064 - val_binary_accuracy: 1.0000\n",
            "Epoch 96/100\n",
            "163/163 [==============================] - 89s 545ms/step - loss: 0.0246 - binary_accuracy: 0.9934 - val_loss: 5.7799e-04 - val_binary_accuracy: 1.0000\n",
            "Epoch 97/100\n",
            "163/163 [==============================] - 89s 544ms/step - loss: 0.0265 - binary_accuracy: 0.9936 - val_loss: 5.1273e-04 - val_binary_accuracy: 1.0000\n",
            "Epoch 98/100\n",
            "163/163 [==============================] - 90s 551ms/step - loss: 0.0271 - binary_accuracy: 0.9927 - val_loss: 0.1356 - val_binary_accuracy: 0.8750\n",
            "Epoch 99/100\n",
            "163/163 [==============================] - 89s 545ms/step - loss: 0.0203 - binary_accuracy: 0.9954 - val_loss: 0.0201 - val_binary_accuracy: 1.0000\n",
            "Epoch 100/100\n",
            "163/163 [==============================] - 91s 556ms/step - loss: 0.0202 - binary_accuracy: 0.9942 - val_loss: 2.5028e-04 - val_binary_accuracy: 1.0000\n"
          ]
        },
        {
          "output_type": "execute_result",
          "data": {
            "text/plain": [
              "<keras.callbacks.History at 0x7f572c075f90>"
            ]
          },
          "metadata": {},
          "execution_count": 17
        }
      ],
      "source": [
        "model.fit(\n",
        "    train_generator,\n",
        "    steps_per_epoch = 163,\n",
        "    epochs=100,\n",
        "    validation_data = validation_generator\n",
        ")"
      ]
    },
    {
      "cell_type": "code",
      "execution_count": 18,
      "metadata": {
        "id": "h_g7oQp4fYRo",
        "colab": {
          "base_uri": "https://localhost:8080/"
        },
        "outputId": "da873a54-199c-459e-e9e2-c31045ac2247"
      },
      "outputs": [
        {
          "output_type": "stream",
          "name": "stderr",
          "text": [
            "/usr/local/lib/python3.7/dist-packages/ipykernel_launcher.py:1: UserWarning: `Model.evaluate_generator` is deprecated and will be removed in a future version. Please use `Model.evaluate`, which supports generators.\n",
            "  \"\"\"Entry point for launching an IPython kernel.\n",
            "WARNING:tensorflow:Your input ran out of data; interrupting training. Make sure that your dataset or generator can generate at least `steps_per_epoch * epochs` batches (in this case, 624 batches). You may need to use the repeat() function when building your dataset.\n"
          ]
        }
      ],
      "source": [
        "final_accuracy = model.evaluate_generator(test_generator,624)[1]"
      ]
    },
    {
      "cell_type": "code",
      "execution_count": 19,
      "metadata": {
        "id": "nQUY1Ow5fYRo",
        "colab": {
          "base_uri": "https://localhost:8080/"
        },
        "outputId": "7d12081c-670d-4390-f621-a71b502f8e15"
      },
      "outputs": [
        {
          "output_type": "execute_result",
          "data": {
            "text/plain": [
              "0.9455128312110901"
            ]
          },
          "metadata": {},
          "execution_count": 19
        }
      ],
      "source": [
        "final_accuracy"
      ]
    },
    {
      "cell_type": "markdown",
      "metadata": {
        "id": "1dErn-BkfYRp"
      },
      "source": [
        "# Model Metrics"
      ]
    },
    {
      "cell_type": "code",
      "execution_count": 20,
      "metadata": {
        "id": "fUFZW6yifYRp"
      },
      "outputs": [],
      "source": [
        "accuracy = history.history['accuracy']\n",
        "val_accuracy  = history.history['val_accuracy']\n",
        "\n",
        "loss = history.history['loss']\n",
        "val_loss = history.history['val_loss']"
      ]
    },
    {
      "cell_type": "markdown",
      "metadata": {
        "id": "SNnw-IUdfYRp"
      },
      "source": [
        "# Visualizing the train and validation accuracy and loss"
      ]
    },
    {
      "cell_type": "code",
      "execution_count": 21,
      "metadata": {
        "id": "5TwxL9zRfYRp",
        "colab": {
          "base_uri": "https://localhost:8080/",
          "height": 311
        },
        "outputId": "2c83e83c-7208-429f-972f-776ee9a28c3f"
      },
      "outputs": [
        {
          "output_type": "display_data",
          "data": {
            "text/plain": [
              "<Figure size 1080x720 with 2 Axes>"
            ],
            "image/png": "[encoded data removed]"
          },
          "metadata": {
            "needs_background": "light"
          }
        }
      ],
      "source": [
        "plt.figure(figsize=(15,10))\n",
        "\n",
        "plt.subplot(2, 2, 1)\n",
        "plt.plot(accuracy, label = \"Training accuracy\")\n",
        "plt.plot(val_accuracy, label=\"Validation accuracy\")\n",
        "plt.legend()\n",
        "plt.title(\"Training vs validation accuracy\")\n",
        "\n",
        "\n",
        "plt.subplot(2,2,2)\n",
        "plt.plot(loss, label = \"Training loss\")\n",
        "plt.plot(val_loss, label=\"Validation loss\")\n",
        "\n",
        "plt.legend()\n",
        "plt.title(\"Training vs validation loss\")\n",
        "\n",
        "plt.show()"
      ]
    },
    {
      "cell_type": "markdown",
      "metadata": {
        "id": "lSQcULpcfYRq"
      },
      "source": [
        "# Saving the model"
      ]
    }
  ],
  "metadata": {
    "accelerator": "GPU",
    "colab": {
      "name": "vgg_transfer_learning_data_augmentation_94_acc_(1).ipynb",
      "provenance": []
    },
    "gpuClass": "standard",
    "kernelspec": {
      "display_name": "Python 3",
      "language": "python",
      "name": "python3"
    },
    "language_info": {
      "codemirror_mode": {
        "name": "ipython",
        "version": 3
      },
      "file_extension": ".py",
      "mimetype": "text/x-python",
      "name": "python",
      "nbconvert_exporter": "python",
      "pygments_lexer": "ipython3",
      "version": "3.7.10"
    }
  },
  "nbformat": 4,
  "nbformat_minor": 0
}